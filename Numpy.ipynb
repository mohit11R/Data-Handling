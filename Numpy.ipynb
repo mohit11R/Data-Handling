{
 "cells": [
  {
   "cell_type": "markdown",
   "metadata": {},
   "source": [
    "# Numpy\n",
    "\n",
    "Numpy is a general-purpose array-processing package. It provides a high-performance multi-dimensional array object, and tools for working with these arrays. It is the fundamental package for scientific computing with python.\n",
    "\n",
    "### What is an array?\n",
    "\n",
    "An array is a data Structure that stores values of same data types.So, we can  do update , add , access and remove into arrays. "
   ]
  },
  {
   "cell_type": "code",
   "execution_count": 1,
   "metadata": {},
   "outputs": [],
   "source": [
    "# import numpy\n",
    "\n",
    "import numpy as np"
   ]
  },
  {
   "cell_type": "code",
   "execution_count": 2,
   "metadata": {},
   "outputs": [],
   "source": [
    "list_1 = [1,2,3,4]\n",
    "arr = np.array(list_1)"
   ]
  },
  {
   "cell_type": "code",
   "execution_count": 3,
   "metadata": {},
   "outputs": [
    {
     "data": {
      "text/plain": [
       "numpy.ndarray"
      ]
     },
     "execution_count": 3,
     "metadata": {},
     "output_type": "execute_result"
    }
   ],
   "source": [
    "type(arr)"
   ]
  },
  {
   "cell_type": "code",
   "execution_count": 4,
   "metadata": {},
   "outputs": [
    {
     "data": {
      "text/plain": [
       "array([1, 2, 3, 4])"
      ]
     },
     "execution_count": 4,
     "metadata": {},
     "output_type": "execute_result"
    }
   ],
   "source": [
    "arr\n",
    "# print(arr)"
   ]
  },
  {
   "cell_type": "markdown",
   "metadata": {},
   "source": [
    "## Shape and Reshape\n",
    "\n",
    "* shape--It specifies how many no of rows and columns are there in arr.\n",
    "\n",
    "* reshape--It takes no of rows and columns as a values and convert arr into that rows and columns"
   ]
  },
  {
   "cell_type": "code",
   "execution_count": 5,
   "metadata": {},
   "outputs": [
    {
     "data": {
      "text/plain": [
       "(4,)"
      ]
     },
     "execution_count": 5,
     "metadata": {},
     "output_type": "execute_result"
    }
   ],
   "source": [
    "arr.shape"
   ]
  },
  {
   "cell_type": "code",
   "execution_count": 6,
   "metadata": {},
   "outputs": [
    {
     "data": {
      "text/plain": [
       "array([[1, 2, 3],\n",
       "       [4, 5, 6]])"
      ]
     },
     "execution_count": 6,
     "metadata": {},
     "output_type": "execute_result"
    }
   ],
   "source": [
    "arr2 = np.array([[1,2,3],[4,5,6]])\n",
    "arr2"
   ]
  },
  {
   "cell_type": "code",
   "execution_count": 7,
   "metadata": {},
   "outputs": [
    {
     "data": {
      "text/plain": [
       "(2, 3)"
      ]
     },
     "execution_count": 7,
     "metadata": {},
     "output_type": "execute_result"
    }
   ],
   "source": [
    "arr2.shape"
   ]
  },
  {
   "cell_type": "code",
   "execution_count": 8,
   "metadata": {},
   "outputs": [
    {
     "data": {
      "text/plain": [
       "array([[1, 2, 3, 4, 5],\n",
       "       [6, 7, 8, 9, 1],\n",
       "       [2, 3, 4, 5, 6]])"
      ]
     },
     "execution_count": 8,
     "metadata": {},
     "output_type": "execute_result"
    }
   ],
   "source": [
    "arr3 = np.array([[1,2,3,4,5],[6,7,8,9,1],[2,3,4,5,6]])\n",
    "arr3"
   ]
  },
  {
   "cell_type": "code",
   "execution_count": 9,
   "metadata": {},
   "outputs": [
    {
     "data": {
      "text/plain": [
       "array([[1, 2, 3],\n",
       "       [4, 5, 6],\n",
       "       [7, 8, 9],\n",
       "       [1, 2, 3],\n",
       "       [4, 5, 6]])"
      ]
     },
     "execution_count": 9,
     "metadata": {},
     "output_type": "execute_result"
    }
   ],
   "source": [
    "arr3.reshape(5,3)"
   ]
  },
  {
   "cell_type": "markdown",
   "metadata": {},
   "source": [
    "## Indexing"
   ]
  },
  {
   "cell_type": "code",
   "execution_count": 10,
   "metadata": {},
   "outputs": [],
   "source": [
    "#  Accessing the array elements\n",
    "\n",
    "arr = np.array([1,2,3,4,5,6])\n"
   ]
  },
  {
   "cell_type": "code",
   "execution_count": 11,
   "metadata": {},
   "outputs": [
    {
     "data": {
      "text/plain": [
       "4"
      ]
     },
     "execution_count": 11,
     "metadata": {},
     "output_type": "execute_result"
    }
   ],
   "source": [
    "arr[3]  # Accessing value from index value"
   ]
  },
  {
   "cell_type": "code",
   "execution_count": 12,
   "metadata": {},
   "outputs": [
    {
     "data": {
      "text/plain": [
       "array([[1, 2, 3, 4, 5],\n",
       "       [2, 3, 4, 5, 6],\n",
       "       [9, 7, 6, 8, 9]])"
      ]
     },
     "execution_count": 12,
     "metadata": {},
     "output_type": "execute_result"
    }
   ],
   "source": [
    "arr = np.array([[1,2,3,4,5],[2,3,4,5,6],[9,7,6,8,9]])\n",
    "arr"
   ]
  },
  {
   "cell_type": "code",
   "execution_count": 13,
   "metadata": {},
   "outputs": [
    {
     "data": {
      "text/plain": [
       "array([[4, 5],\n",
       "       [6, 8]])"
      ]
     },
     "execution_count": 13,
     "metadata": {},
     "output_type": "execute_result"
    }
   ],
   "source": [
    "arr[1:,2:4]"
   ]
  },
  {
   "cell_type": "code",
   "execution_count": 14,
   "metadata": {},
   "outputs": [
    {
     "data": {
      "text/plain": [
       "array([[3, 4, 5]])"
      ]
     },
     "execution_count": 14,
     "metadata": {},
     "output_type": "execute_result"
    }
   ],
   "source": [
    "arr[1:2,1:4]"
   ]
  },
  {
   "cell_type": "markdown",
   "metadata": {},
   "source": [
    "## Arange, linspace and Copy function\n",
    "\n",
    "* Arange -- It create 1-D array and It takes range from lower value to upper value and take step gap.\n",
    "\n",
    "* linspace -- It create 1-D aaray and it takes range from lower value to upper value and also take how many points you want to print.\n",
    "\n",
    "* copy -- copy function helps that it will not change original arr after copy"
   ]
  },
  {
   "cell_type": "code",
   "execution_count": 15,
   "metadata": {},
   "outputs": [
    {
     "data": {
      "text/plain": [
       "array([0, 1, 2, 3, 4, 5, 6, 7, 8, 9])"
      ]
     },
     "execution_count": 15,
     "metadata": {},
     "output_type": "execute_result"
    }
   ],
   "source": [
    "arr = np.arange(0,10)\n",
    "arr"
   ]
  },
  {
   "cell_type": "code",
   "execution_count": 16,
   "metadata": {},
   "outputs": [
    {
     "data": {
      "text/plain": [
       "array([ 1.        ,  1.47368421,  1.94736842,  2.42105263,  2.89473684,\n",
       "        3.36842105,  3.84210526,  4.31578947,  4.78947368,  5.26315789,\n",
       "        5.73684211,  6.21052632,  6.68421053,  7.15789474,  7.63157895,\n",
       "        8.10526316,  8.57894737,  9.05263158,  9.52631579, 10.        ])"
      ]
     },
     "execution_count": 16,
     "metadata": {},
     "output_type": "execute_result"
    }
   ],
   "source": [
    "value = np.linspace(1,10,20)\n",
    "value"
   ]
  },
  {
   "cell_type": "code",
   "execution_count": 17,
   "metadata": {},
   "outputs": [
    {
     "name": "stdout",
     "output_type": "stream",
     "text": [
      "[ 1  2 20 20]\n",
      "[1 2 3 4]\n"
     ]
    }
   ],
   "source": [
    "arr = np.array([1,2,3,4])\n",
    "arr1 = arr.copy()\n",
    "arr1[2:] = 20\n",
    "print(arr1)\n",
    "print(arr)\n"
   ]
  },
  {
   "cell_type": "code",
   "execution_count": 18,
   "metadata": {},
   "outputs": [
    {
     "data": {
      "text/plain": [
       "[array([0.5, 1. , 1.5, 2. , 2.5])]"
      ]
     },
     "execution_count": 18,
     "metadata": {},
     "output_type": "execute_result"
    }
   ],
   "source": [
    "# Some conditions are very useful in Exploratory Data Analysis.\n",
    "\n",
    "arr = np.array([1,2,3,4,5])\n",
    "\n",
    "arr<3\n",
    "[arr/2]\n"
   ]
  },
  {
   "cell_type": "code",
   "execution_count": 19,
   "metadata": {},
   "outputs": [
    {
     "data": {
      "text/plain": [
       "array([[0, 1],\n",
       "       [2, 3],\n",
       "       [4, 5],\n",
       "       [6, 7],\n",
       "       [8, 9]])"
      ]
     },
     "execution_count": 19,
     "metadata": {},
     "output_type": "execute_result"
    }
   ],
   "source": [
    "# Creating array and reshaping \n",
    "np.arange(0,10).reshape(5,2)"
   ]
  },
  {
   "cell_type": "markdown",
   "metadata": {},
   "source": [
    "## Ones and Zeros\n",
    "\n",
    "* It will create array of values with 1 and 0 respectively and it also take datatype."
   ]
  },
  {
   "cell_type": "code",
   "execution_count": 20,
   "metadata": {},
   "outputs": [
    {
     "data": {
      "text/plain": [
       "array([1, 1, 1, 1])"
      ]
     },
     "execution_count": 20,
     "metadata": {},
     "output_type": "execute_result"
    }
   ],
   "source": [
    "np.ones(4,dtype=int)"
   ]
  },
  {
   "cell_type": "code",
   "execution_count": 21,
   "metadata": {},
   "outputs": [
    {
     "data": {
      "text/plain": [
       "array([[1., 1., 1.],\n",
       "       [1., 1., 1.]])"
      ]
     },
     "execution_count": 21,
     "metadata": {},
     "output_type": "execute_result"
    }
   ],
   "source": [
    "np.ones((2,3),dtype=float)"
   ]
  },
  {
   "cell_type": "code",
   "execution_count": 22,
   "metadata": {},
   "outputs": [
    {
     "data": {
      "text/plain": [
       "array([0, 0, 0, 0])"
      ]
     },
     "execution_count": 22,
     "metadata": {},
     "output_type": "execute_result"
    }
   ],
   "source": [
    "np.zeros(4,dtype=int)"
   ]
  },
  {
   "cell_type": "markdown",
   "metadata": {},
   "source": [
    "## Random Functions "
   ]
  },
  {
   "cell_type": "code",
   "execution_count": 23,
   "metadata": {},
   "outputs": [
    {
     "data": {
      "text/plain": [
       "array([[0.36825043, 0.3487275 , 0.73651134],\n",
       "       [0.90336791, 0.58898007, 0.54592465],\n",
       "       [0.75248382, 0.78879687, 0.321429  ]])"
      ]
     },
     "execution_count": 23,
     "metadata": {},
     "output_type": "execute_result"
    }
   ],
   "source": [
    "np.random.rand(3,3)"
   ]
  },
  {
   "cell_type": "code",
   "execution_count": 24,
   "metadata": {},
   "outputs": [
    {
     "data": {
      "text/plain": [
       "array([[-0.74464338, -1.16350405, -1.14898363, -0.65545576],\n",
       "       [ 0.49630878,  0.11933696,  2.08769639, -1.44674711],\n",
       "       [ 1.12364776,  0.16318402,  0.0570382 ,  1.19571191],\n",
       "       [-1.06411957, -0.32114055,  1.6468638 ,  0.64535102]])"
      ]
     },
     "execution_count": 24,
     "metadata": {},
     "output_type": "execute_result"
    }
   ],
   "source": [
    "arr_n = np.random.randn(4,4)\n",
    "arr_n"
   ]
  },
  {
   "cell_type": "code",
   "execution_count": 25,
   "metadata": {},
   "outputs": [
    {
     "data": {
      "text/plain": [
       "array([[82, 43, 35, 14],\n",
       "       [76, 16, 70, 83]])"
      ]
     },
     "execution_count": 25,
     "metadata": {},
     "output_type": "execute_result"
    }
   ],
   "source": [
    "arr_p = np.random.randint(0,100,8).reshape(2,4)\n",
    "arr_p"
   ]
  },
  {
   "cell_type": "code",
   "execution_count": 26,
   "metadata": {},
   "outputs": [
    {
     "data": {
      "text/plain": [
       "array([[0.98955819, 0.63227426, 0.08508564, 0.03750657, 0.20174546]])"
      ]
     },
     "execution_count": 26,
     "metadata": {},
     "output_type": "execute_result"
    }
   ],
   "source": [
    "np.random.random_sample((1,5))"
   ]
  },
  {
   "cell_type": "markdown",
   "metadata": {},
   "source": [
    "## Transpose and Flatten\n",
    "\n",
    "* Transpose -- by using this we can transpose the array and it will not affect the original array but it will create a new array.\n",
    "\n",
    "* Flattern -- It creates a copy of the input array flatterned to one dimension.\n"
   ]
  },
  {
   "cell_type": "code",
   "execution_count": 27,
   "metadata": {},
   "outputs": [
    {
     "name": "stdout",
     "output_type": "stream",
     "text": [
      "[[1 4]\n",
      " [2 5]\n",
      " [3 6]]\n"
     ]
    }
   ],
   "source": [
    "arr_t = np.array([[1,2,3],[4,5,6]])\n",
    "res = np.transpose(arr_t)\n",
    "print(res)"
   ]
  },
  {
   "cell_type": "code",
   "execution_count": 28,
   "metadata": {},
   "outputs": [
    {
     "name": "stdout",
     "output_type": "stream",
     "text": [
      "[1 2 3 4 5 6]\n"
     ]
    }
   ],
   "source": [
    "res1 = arr_t.flatten()\n",
    "print(res1)"
   ]
  },
  {
   "cell_type": "markdown",
   "metadata": {},
   "source": [
    "## Concatenate\n",
    "\n",
    "Two or more arrays can be joined together using the concatenate function with a tuple of the arrays to be joined.\n",
    "\n",
    "If an array has more than one dimension, it is possible to specify the axis along which multiple arrays are concatenated. By default, it is along the first dimension."
   ]
  },
  {
   "cell_type": "code",
   "execution_count": 29,
   "metadata": {},
   "outputs": [
    {
     "name": "stdout",
     "output_type": "stream",
     "text": [
      "[1 2 3 4 2 3 4 5]\n"
     ]
    }
   ],
   "source": [
    "arr_1 = np.array([1,2,3,4])\n",
    "arr_2 = np.array([2,3,4,5])\n",
    "res = np.concatenate((arr_1,arr_2))\n",
    "print(res)"
   ]
  },
  {
   "cell_type": "code",
   "execution_count": 30,
   "metadata": {},
   "outputs": [
    {
     "name": "stdout",
     "output_type": "stream",
     "text": [
      "[[1 2 3 4 5 6]\n",
      " [0 9 0 6 7 9]]\n"
     ]
    }
   ],
   "source": [
    "arr_1 = np.array([[1,2,3],[0,9,0]])\n",
    "arr_2 = np.array([[4,5,6],[6,7,9]])\n",
    "res = np.concatenate((arr_1,arr_2),axis=1)\n",
    "print(res)"
   ]
  },
  {
   "cell_type": "markdown",
   "metadata": {},
   "source": [
    "## Identity and Eye\n",
    "\n",
    "* Identity -- The identity tool returns an identity array. An identity array is a square matrix with all the main diagonal elements as  and the rest as . The default type of elements is float.\n",
    "\n",
    "\n",
    "* Eye -- The eye tool returns a 2-D array with 's as the diagonal and 's elsewhere. The diagonal can be main, upper or lower depending on the optional parameter . A positive  is for the upper diagonal, a negative  is for the lower, and a 0 k(default) is for the main diagonal."
   ]
  },
  {
   "cell_type": "code",
   "execution_count": 31,
   "metadata": {},
   "outputs": [
    {
     "name": "stdout",
     "output_type": "stream",
     "text": [
      "[[ 1.  0.  0.]\n",
      " [ 0.  1.  0.]\n",
      " [ 0.  0.  1.]]\n"
     ]
    }
   ],
   "source": [
    "np.set_printoptions(legacy=\"1.13\")  #In order to get alignment correct and gap betwwwn values\n",
    "\n",
    "res = np.identity(3)  # 3 is for dimension\n",
    "print(res)"
   ]
  },
  {
   "cell_type": "code",
   "execution_count": 32,
   "metadata": {},
   "outputs": [
    {
     "name": "stdout",
     "output_type": "stream",
     "text": [
      "[[ 0.  1.  0.  0.  0.]\n",
      " [ 0.  0.  1.  0.  0.]\n",
      " [ 0.  0.  0.  1.  0.]\n",
      " [ 0.  0.  0.  0.  1.]\n",
      " [ 0.  0.  0.  0.  0.]]\n"
     ]
    }
   ],
   "source": [
    "np.set_printoptions(legacy=\"1.13\")\n",
    "\n",
    "res= np.eye(5,5,k=1)  # 5X5 dimensional array with upper diagonal\n",
    "print(res)"
   ]
  },
  {
   "cell_type": "markdown",
   "metadata": {},
   "source": [
    "## Mathematics Functions \n",
    "\n",
    "1) Add, Subtract, multiply, divide (Floor,ceil,rint) , mod, power\n",
    "\n",
    "2) Min and Max\n",
    "\n",
    "3) Sum and Product"
   ]
  },
  {
   "cell_type": "code",
   "execution_count": 33,
   "metadata": {},
   "outputs": [
    {
     "name": "stdout",
     "output_type": "stream",
     "text": [
      "[  6.   8.  10.  12.]\n",
      "[-4. -4. -4. -4.]\n",
      "[  5.  12.  21.  32.]\n",
      "[ 0.2         0.33333333  0.42857143  0.5       ]\n",
      "[ 1.  2.  3.  4.]\n",
      "[  1.00000000e+00   6.40000000e+01   2.18700000e+03   6.55360000e+04]\n"
     ]
    }
   ],
   "source": [
    "a = np.array([1,2,3,4],dtype=float)   # You can take any data type \n",
    "b = np.array([5,6,7,8],dtype=float)\n",
    "\n",
    "res1 = np.add(a,b)      # we can also do simple function a+b\n",
    "res2 = np.subtract(a,b) # we can also do simple function a-b\n",
    "res3 = np.multiply(a,b) # we can also do simple function a*b\n",
    "res4 = np.divide(a,b)   # we can also do simple function a/b\n",
    "res5 = np.mod(a,b)      # we can also do simple function a%b\n",
    "res6 = np.power(a,b)    # we can also do simple function a**b\n",
    "print(res1,res2,res3,res4,res5,res6,sep=\"\\n\")"
   ]
  },
  {
   "cell_type": "code",
   "execution_count": 34,
   "metadata": {},
   "outputs": [
    {
     "name": "stdout",
     "output_type": "stream",
     "text": [
      "[ 1.  2.  3.  4.  5.  6.  7.  8.  9.]\n",
      "[  2.   3.   4.   5.   6.   7.   8.   9.  10.]\n",
      "[  1.   2.   3.   4.   6.   7.   8.   9.  10.]\n"
     ]
    }
   ],
   "source": [
    "arr = np.array([1.1, 2.2, 3.3, 4.4, 5.5, 6.6, 7.7, 8.8, 9.9])\n",
    "res1 = np.floor(arr)\n",
    "res2 = np.ceil(arr)\n",
    "res3 = np.rint(arr)\n",
    "print(res1,res2,res3,sep=\"\\n\")"
   ]
  },
  {
   "cell_type": "code",
   "execution_count": 35,
   "metadata": {},
   "outputs": [
    {
     "name": "stdout",
     "output_type": "stream",
     "text": [
      "[1 2]\n",
      "[1 3 5]\n",
      "[5 6]\n",
      "[2 4 6]\n"
     ]
    }
   ],
   "source": [
    "arr = np.array([[1,2],[3,4],[5,6]])\n",
    "\n",
    "res1 = np.min(arr,axis=0)\n",
    "res2 = np.min(arr,axis=1)\n",
    "print(res1,res2,sep=\"\\n\")\n",
    "\n",
    "res3 = np.max(arr,axis=0)\n",
    "res4 = np.max(arr,axis=1)\n",
    "print(res3,res4,sep=\"\\n\")"
   ]
  },
  {
   "cell_type": "code",
   "execution_count": 36,
   "metadata": {},
   "outputs": [
    {
     "name": "stdout",
     "output_type": "stream",
     "text": [
      "[4 6]\n",
      "[3 7]\n",
      "[3 8]\n",
      "[ 2 12]\n"
     ]
    }
   ],
   "source": [
    "arr = np.array([ [1, 2], [3, 4] ])\n",
    "\n",
    "res1 = np.sum(arr,axis=0)\n",
    "res2 = np.sum(arr,axis=1)\n",
    "print(res1,res2,sep=\"\\n\")\n",
    "\n",
    "res3 = np.prod(arr,axis=0)\n",
    "res4 = np.prod(arr,axis=1)\n",
    "print(res3,res4,sep=\"\\n\")"
   ]
  },
  {
   "cell_type": "markdown",
   "metadata": {},
   "source": [
    "## Mean , Variance and Standard Deviation\n",
    "\n",
    "* Mean -- It computes the arithmetic mean along the specified axis.\n",
    "\n",
    "* Variance -- It computes the arithmetic variance along the specified axis.\n",
    "\n",
    "* Standard Deviation -- It computes the arithmetic standard deviation along the specified axis."
   ]
  },
  {
   "cell_type": "code",
   "execution_count": 37,
   "metadata": {},
   "outputs": [
    {
     "name": "stdout",
     "output_type": "stream",
     "text": [
      "[ 2.  3.]\n",
      "[ 1.5  3.5]\n",
      "[ 1.  1.]\n",
      "[ 0.25  0.25]\n",
      "[ 1.  1.]\n",
      "[ 0.5  0.5]\n"
     ]
    }
   ],
   "source": [
    "arr = np.array([[1,2],[3,4]])\n",
    "\n",
    "# Mean \n",
    "res1 = np.mean(arr,axis=0)\n",
    "res2 = np.mean(arr,axis=1)\n",
    "print(res1,res2,sep=\"\\n\")\n",
    "\n",
    "# Variance \n",
    "res3 = np.var(arr,axis=0)\n",
    "res4 = np.var(arr,axis=1)\n",
    "print(res3,res4,sep=\"\\n\")\n",
    "\n",
    "# Standard Deviation\n",
    "res5 = np.std(arr,axis=0)\n",
    "res6 = np.std(arr,axis=1)\n",
    "print(res5,res6,sep=\"\\n\")"
   ]
  },
  {
   "cell_type": "markdown",
   "metadata": {},
   "source": [
    "## Vector Products -- Dot, Cross, Inner and Outer\n",
    "\n",
    "* Dot -- The dot tool returns the dot product of two arrays.\n",
    "\n",
    "* Cross -- The cross tool returns the cross product of two arrays.\n",
    "\n",
    "* Inner -- The inner tool returns the inner product of two arrays.\n",
    "\n",
    "* Outer -- The outer tool returns the outer product of two arrays"
   ]
  },
  {
   "cell_type": "code",
   "execution_count": 38,
   "metadata": {},
   "outputs": [
    {
     "name": "stdout",
     "output_type": "stream",
     "text": [
      "[[11 14]\n",
      " [25 32]]\n",
      "[-2 -1]\n"
     ]
    }
   ],
   "source": [
    "a = np.array([[1,2],[3,4]])\n",
    "b = np.array([[3,4],[4,5]])\n",
    "res = np.dot(a,b)  # DOT Product\n",
    "print(res)\n",
    "\n",
    "res1 = np.cross(a,b) # Cross Product\n",
    "print(res1)"
   ]
  },
  {
   "cell_type": "code",
   "execution_count": 39,
   "metadata": {},
   "outputs": [
    {
     "name": "stdout",
     "output_type": "stream",
     "text": [
      "4\n",
      "[[0 0]\n",
      " [3 4]]\n"
     ]
    }
   ],
   "source": [
    "A = np.array([0, 1])\n",
    "B = np.array([3, 4])\n",
    "res1 = np.inner(A,B)  # INNER Product\n",
    "res2 = np.outer(A,B)  # Outer Product\n",
    "\n",
    "print(res1,res2,sep=\"\\n\")"
   ]
  },
  {
   "cell_type": "markdown",
   "metadata": {},
   "source": [
    "## Polynomials -- poly, roots, ployint, ployder, ployval and ployfit\n",
    "\n",
    "* poly -- The poly tool returns the coefficients of a polynomial with the given sequence of roots.\n",
    "\n",
    "* roots -- The roots tool returns the roots of a polynomial with the given coefficients.\n",
    "\n",
    "* polyint -- The polyint tool returns an antiderivative (indefinite integral) of a polynomial.\n",
    "\n",
    "* polyder -- The polyder tool returns the derivative of the specified order of a polynomial.\n",
    "\n",
    "* polyval -- The polyval tool evaluates the polynomial at specific value.\n",
    "\n",
    "* polyfit -- The polyfit tool fits a polynomial of a specified order to a set of data using a least-squares approach.\n",
    "\n",
    "\n",
    "Note -- The functions polyadd, polysub, polymul, and polydiv also handle proper addition, subtraction, multiplication, and division of polynomial coefficients, respectively."
   ]
  },
  {
   "cell_type": "code",
   "execution_count": 40,
   "metadata": {},
   "outputs": [
    {
     "name": "stdout",
     "output_type": "stream",
     "text": [
      "[ 1.  2. -9. -2.  8.]\n",
      "[ 1. -1.]\n",
      "[ 0.25       -0.33333333  1.         -4.          0.        ]\n",
      "[ 3 -2  2]\n",
      "20\n",
      "[-0.15909091 -1.50757576  1.37121212]\n"
     ]
    }
   ],
   "source": [
    "arr = np.array([1,-1,2,-4])\n",
    "res1 = np.poly(arr)\n",
    "res2 = np.roots([1,0,-1])\n",
    "res3 = np.polyint(arr)\n",
    "res4 = np.polyder(arr)\n",
    "res5 = np.polyval(arr,3)\n",
    "res6 = np.polyfit(arr,[1,2,-3,5],2)\n",
    "\n",
    "print(res1,res2,res3,res4,res5,res6,sep=\"\\n\")\n"
   ]
  },
  {
   "cell_type": "markdown",
   "metadata": {},
   "source": [
    "## Linear Algebra -- linalg.det, linalg.eig, linalg.inv \n",
    "\n",
    "* linalg.det -- The linalg.det tool computes the determinant of an array.\n",
    "\n",
    "* linalg.eig -- The linalg.eig computes the eigenvalues and right eigenvectors of a square array.\n",
    "\n",
    "* linalg.inv -- The linalg.inv tool computes the (multiplicative) inverse of a matrix.\n"
   ]
  },
  {
   "cell_type": "code",
   "execution_count": 41,
   "metadata": {},
   "outputs": [
    {
     "name": "stdout",
     "output_type": "stream",
     "text": [
      "-3.0\n",
      "[ 3. -1.]\n",
      "[[ 0.70710678 -0.70710678]\n",
      " [ 0.70710678  0.70710678]]\n",
      "[[-0.33333333  0.66666667]\n",
      " [ 0.66666667 -0.33333333]]\n"
     ]
    }
   ],
   "source": [
    "arr = np.array([[1,2],[2,1]])\n",
    "\n",
    "# linalg.det\n",
    "res1 = np.linalg.det(arr)\n",
    "print(res1)\n",
    "\n",
    "# linalg.eig \n",
    "vals,vecs = np.linalg.eig(arr)\n",
    "print(vals,vecs,sep=\"\\n\")\n",
    "\n",
    "# linalg.inv\n",
    "res2 = np.linalg.inv(arr)\n",
    "print(res2)"
   ]
  },
  {
   "cell_type": "code",
   "execution_count": null,
   "metadata": {},
   "outputs": [],
   "source": []
  }
 ],
 "metadata": {
  "kernelspec": {
   "display_name": "Python 3",
   "language": "python",
   "name": "python3"
  },
  "language_info": {
   "codemirror_mode": {
    "name": "ipython",
    "version": 3
   },
   "file_extension": ".py",
   "mimetype": "text/x-python",
   "name": "python",
   "nbconvert_exporter": "python",
   "pygments_lexer": "ipython3",
   "version": "3.7.4"
  }
 },
 "nbformat": 4,
 "nbformat_minor": 2
}
